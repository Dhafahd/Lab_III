{
 "cells": [
  {
   "cell_type": "code",
   "execution_count": 33,
   "id": "fd198e0a-0a63-43d3-bf7c-3031537605f1",
   "metadata": {},
   "outputs": [],
   "source": [
    "import pandas as pd\n",
    "import re\n",
    "import nltk\n",
    "from nltk.corpus import stopwords\n",
    "from nltk.tokenize import word_tokenize\n",
    "from nltk.stem import WordNetLemmatizer\n",
    "from sklearn.feature_extraction.text import TfidfVectorizer,CountVectorizer\n",
    "import matplotlib.pyplot as plt\n",
    "import numpy as np\n",
    "from gensim.models import Word2Vec\n",
    "from sklearn.ensemble import AdaBoostClassifier\n",
    "from sklearn.model_selection import train_test_split\n",
    "from sklearn.svm import SVR,SVC\n",
    "from sklearn.naive_bayes import GaussianNB,MultinomialNB\n",
    "from sklearn.linear_model import LinearRegression,LogisticRegression\n",
    "from sklearn.tree import DecisionTreeRegressor\n",
    "from sklearn.metrics import mean_squared_error,classification_report,accuracy_score, f1_score,confusion_matrix, roc_auc_score,ConfusionMatrixDisplay"
   ]
  },
  {
   "cell_type": "markdown",
   "id": "f407ef68-9f0b-4955-ad7d-69b7e76771a5",
   "metadata": {},
   "source": [
    "# PART1 : **Language Modeling / Regression**"
   ]
  },
  {
   "cell_type": "code",
   "execution_count": 2,
   "id": "348961ac-d883-4308-925b-2098d6f1cc4d",
   "metadata": {},
   "outputs": [
    {
     "data": {
      "text/html": [
       "<div>\n",
       "<style scoped>\n",
       "    .dataframe tbody tr th:only-of-type {\n",
       "        vertical-align: middle;\n",
       "    }\n",
       "\n",
       "    .dataframe tbody tr th {\n",
       "        vertical-align: top;\n",
       "    }\n",
       "\n",
       "    .dataframe thead th {\n",
       "        text-align: right;\n",
       "    }\n",
       "</style>\n",
       "<table border=\"1\" class=\"dataframe\">\n",
       "  <thead>\n",
       "    <tr style=\"text-align: right;\">\n",
       "      <th></th>\n",
       "      <th>id</th>\n",
       "      <th>answer</th>\n",
       "      <th>score</th>\n",
       "      <th>correct</th>\n",
       "    </tr>\n",
       "  </thead>\n",
       "  <tbody>\n",
       "    <tr>\n",
       "      <th>0</th>\n",
       "      <td>1.1</td>\n",
       "      <td>High risk problems are address in the prototyp...</td>\n",
       "      <td>3.5</td>\n",
       "      <td>0.0</td>\n",
       "    </tr>\n",
       "    <tr>\n",
       "      <th>1</th>\n",
       "      <td>1.1</td>\n",
       "      <td>To simulate portions of the desired final prod...</td>\n",
       "      <td>5.0</td>\n",
       "      <td>1.0</td>\n",
       "    </tr>\n",
       "    <tr>\n",
       "      <th>2</th>\n",
       "      <td>1.1</td>\n",
       "      <td>A prototype program simulates the behaviors of...</td>\n",
       "      <td>4.0</td>\n",
       "      <td>1.0</td>\n",
       "    </tr>\n",
       "    <tr>\n",
       "      <th>3</th>\n",
       "      <td>1.1</td>\n",
       "      <td>Defined in the Specification phase a prototype...</td>\n",
       "      <td>5.0</td>\n",
       "      <td>1.0</td>\n",
       "    </tr>\n",
       "    <tr>\n",
       "      <th>4</th>\n",
       "      <td>1.1</td>\n",
       "      <td>It is used to let the users have a first idea ...</td>\n",
       "      <td>3.0</td>\n",
       "      <td>0.0</td>\n",
       "    </tr>\n",
       "  </tbody>\n",
       "</table>\n",
       "</div>"
      ],
      "text/plain": [
       "    id                                             answer  score  correct\n",
       "0  1.1  High risk problems are address in the prototyp...    3.5      0.0\n",
       "1  1.1  To simulate portions of the desired final prod...    5.0      1.0\n",
       "2  1.1  A prototype program simulates the behaviors of...    4.0      1.0\n",
       "3  1.1  Defined in the Specification phase a prototype...    5.0      1.0\n",
       "4  1.1  It is used to let the users have a first idea ...    3.0      0.0"
      ]
     },
     "execution_count": 2,
     "metadata": {},
     "output_type": "execute_result"
    }
   ],
   "source": [
    "df = pd.read_csv('https://github.com/dbbrandt/short_answer_granding_capstone_project/raw/master/data/sag/answers.csv')\n",
    "df.head()"
   ]
  },
  {
   "cell_type": "markdown",
   "id": "e72cb46b-4de0-443a-b965-3950d881244d",
   "metadata": {},
   "source": [
    "### Text Cleaning and Preprocessing"
   ]
  },
  {
   "cell_type": "code",
   "execution_count": 3,
   "id": "ccb277bc-a1f6-4d9d-9c8e-80a7475341d5",
   "metadata": {},
   "outputs": [
    {
     "data": {
      "text/html": [
       "<div>\n",
       "<style scoped>\n",
       "    .dataframe tbody tr th:only-of-type {\n",
       "        vertical-align: middle;\n",
       "    }\n",
       "\n",
       "    .dataframe tbody tr th {\n",
       "        vertical-align: top;\n",
       "    }\n",
       "\n",
       "    .dataframe thead th {\n",
       "        text-align: right;\n",
       "    }\n",
       "</style>\n",
       "<table border=\"1\" class=\"dataframe\">\n",
       "  <thead>\n",
       "    <tr style=\"text-align: right;\">\n",
       "      <th></th>\n",
       "      <th>id</th>\n",
       "      <th>answer</th>\n",
       "      <th>score</th>\n",
       "      <th>correct</th>\n",
       "      <th>cleaned_answer</th>\n",
       "    </tr>\n",
       "  </thead>\n",
       "  <tbody>\n",
       "    <tr>\n",
       "      <th>0</th>\n",
       "      <td>1.1</td>\n",
       "      <td>High risk problems are address in the prototyp...</td>\n",
       "      <td>3.5</td>\n",
       "      <td>0.0</td>\n",
       "      <td>high risk problems are address in the prototyp...</td>\n",
       "    </tr>\n",
       "    <tr>\n",
       "      <th>1</th>\n",
       "      <td>1.1</td>\n",
       "      <td>To simulate portions of the desired final prod...</td>\n",
       "      <td>5.0</td>\n",
       "      <td>1.0</td>\n",
       "      <td>to simulate portions of the desired final prod...</td>\n",
       "    </tr>\n",
       "    <tr>\n",
       "      <th>2</th>\n",
       "      <td>1.1</td>\n",
       "      <td>A prototype program simulates the behaviors of...</td>\n",
       "      <td>4.0</td>\n",
       "      <td>1.0</td>\n",
       "      <td>a prototype program simulates the behaviors of...</td>\n",
       "    </tr>\n",
       "    <tr>\n",
       "      <th>3</th>\n",
       "      <td>1.1</td>\n",
       "      <td>Defined in the Specification phase a prototype...</td>\n",
       "      <td>5.0</td>\n",
       "      <td>1.0</td>\n",
       "      <td>defined in the specification phase a prototype...</td>\n",
       "    </tr>\n",
       "    <tr>\n",
       "      <th>4</th>\n",
       "      <td>1.1</td>\n",
       "      <td>It is used to let the users have a first idea ...</td>\n",
       "      <td>3.0</td>\n",
       "      <td>0.0</td>\n",
       "      <td>it is used to let the users have a first idea ...</td>\n",
       "    </tr>\n",
       "  </tbody>\n",
       "</table>\n",
       "</div>"
      ],
      "text/plain": [
       "    id                                             answer  score  correct  \\\n",
       "0  1.1  High risk problems are address in the prototyp...    3.5      0.0   \n",
       "1  1.1  To simulate portions of the desired final prod...    5.0      1.0   \n",
       "2  1.1  A prototype program simulates the behaviors of...    4.0      1.0   \n",
       "3  1.1  Defined in the Specification phase a prototype...    5.0      1.0   \n",
       "4  1.1  It is used to let the users have a first idea ...    3.0      0.0   \n",
       "\n",
       "                                      cleaned_answer  \n",
       "0  high risk problems are address in the prototyp...  \n",
       "1  to simulate portions of the desired final prod...  \n",
       "2  a prototype program simulates the behaviors of...  \n",
       "3  defined in the specification phase a prototype...  \n",
       "4  it is used to let the users have a first idea ...  "
      ]
     },
     "execution_count": 3,
     "metadata": {},
     "output_type": "execute_result"
    }
   ],
   "source": [
    "def preprocess_text(text):\n",
    "    if isinstance(text, str):\n",
    "        text = text.lower()  # Convert text to lowercase\n",
    "        text = re.sub(r'\\W', ' ', text)  # Remove non-word characters\n",
    "        text = re.sub(r'\\s+', ' ', text)  # Remove extra whitespace\n",
    "    else:\n",
    "        text = ''  # Handle non-string input by converting to empty string\n",
    "    return text\n",
    "\n",
    "def tokenize(text):\n",
    "    return word_tokenize(text)\n",
    "\n",
    "def remove_stopwords(tokens):\n",
    "    stop_words = set(stopwords.words('english'))\n",
    "    return [word for word in tokens if word not in stop_words]\n",
    "\n",
    "def lemmatize(tokens):\n",
    "    lemmatizer = WordNetLemmatizer()\n",
    "    return [lemmatizer.lemmatize(word) for word in tokens]\n",
    "    \n",
    "df['cleaned_answer'] = df['answer'].apply(preprocess_text)\n",
    "df.head()"
   ]
  },
  {
   "cell_type": "markdown",
   "id": "79741b26-cf5b-4592-b312-e9fa423b05ab",
   "metadata": {},
   "source": [
    "###  Tokenization, stop words removal, and lemmatization"
   ]
  },
  {
   "cell_type": "code",
   "execution_count": 4,
   "id": "e1632a2b-aa19-42a6-815b-c7d800fcab1a",
   "metadata": {},
   "outputs": [
    {
     "name": "stderr",
     "output_type": "stream",
     "text": [
      "[nltk_data] Downloading package punkt to\n",
      "[nltk_data]     C:\\Users\\lenovo\\AppData\\Roaming\\nltk_data...\n",
      "[nltk_data]   Package punkt is already up-to-date!\n",
      "[nltk_data] Downloading package stopwords to\n",
      "[nltk_data]     C:\\Users\\lenovo\\AppData\\Roaming\\nltk_data...\n",
      "[nltk_data]   Package stopwords is already up-to-date!\n",
      "[nltk_data] Downloading package wordnet to\n",
      "[nltk_data]     C:\\Users\\lenovo\\AppData\\Roaming\\nltk_data...\n",
      "[nltk_data]   Package wordnet is already up-to-date!\n"
     ]
    },
    {
     "data": {
      "text/plain": [
       "True"
      ]
     },
     "execution_count": 4,
     "metadata": {},
     "output_type": "execute_result"
    }
   ],
   "source": [
    "nltk.download('punkt')\n",
    "nltk.download('stopwords')\n",
    "nltk.download('wordnet')"
   ]
  },
  {
   "cell_type": "code",
   "execution_count": 5,
   "id": "82637d61-2d83-4c25-afd8-f422f24d6609",
   "metadata": {},
   "outputs": [
    {
     "data": {
      "text/html": [
       "<div>\n",
       "<style scoped>\n",
       "    .dataframe tbody tr th:only-of-type {\n",
       "        vertical-align: middle;\n",
       "    }\n",
       "\n",
       "    .dataframe tbody tr th {\n",
       "        vertical-align: top;\n",
       "    }\n",
       "\n",
       "    .dataframe thead th {\n",
       "        text-align: right;\n",
       "    }\n",
       "</style>\n",
       "<table border=\"1\" class=\"dataframe\">\n",
       "  <thead>\n",
       "    <tr style=\"text-align: right;\">\n",
       "      <th></th>\n",
       "      <th>id</th>\n",
       "      <th>answer</th>\n",
       "      <th>score</th>\n",
       "      <th>correct</th>\n",
       "      <th>cleaned_answer</th>\n",
       "      <th>tokens</th>\n",
       "    </tr>\n",
       "  </thead>\n",
       "  <tbody>\n",
       "    <tr>\n",
       "      <th>0</th>\n",
       "      <td>1.1</td>\n",
       "      <td>High risk problems are address in the prototyp...</td>\n",
       "      <td>3.5</td>\n",
       "      <td>0.0</td>\n",
       "      <td>high risk problems are address in the prototyp...</td>\n",
       "      <td>[high, risk, problem, address, prototype, prog...</td>\n",
       "    </tr>\n",
       "    <tr>\n",
       "      <th>1</th>\n",
       "      <td>1.1</td>\n",
       "      <td>To simulate portions of the desired final prod...</td>\n",
       "      <td>5.0</td>\n",
       "      <td>1.0</td>\n",
       "      <td>to simulate portions of the desired final prod...</td>\n",
       "      <td>[simulate, portion, desired, final, product, q...</td>\n",
       "    </tr>\n",
       "    <tr>\n",
       "      <th>2</th>\n",
       "      <td>1.1</td>\n",
       "      <td>A prototype program simulates the behaviors of...</td>\n",
       "      <td>4.0</td>\n",
       "      <td>1.0</td>\n",
       "      <td>a prototype program simulates the behaviors of...</td>\n",
       "      <td>[prototype, program, simulates, behavior, port...</td>\n",
       "    </tr>\n",
       "    <tr>\n",
       "      <th>3</th>\n",
       "      <td>1.1</td>\n",
       "      <td>Defined in the Specification phase a prototype...</td>\n",
       "      <td>5.0</td>\n",
       "      <td>1.0</td>\n",
       "      <td>defined in the specification phase a prototype...</td>\n",
       "      <td>[defined, specification, phase, prototype, sti...</td>\n",
       "    </tr>\n",
       "    <tr>\n",
       "      <th>4</th>\n",
       "      <td>1.1</td>\n",
       "      <td>It is used to let the users have a first idea ...</td>\n",
       "      <td>3.0</td>\n",
       "      <td>0.0</td>\n",
       "      <td>it is used to let the users have a first idea ...</td>\n",
       "      <td>[used, let, user, first, idea, completed, prog...</td>\n",
       "    </tr>\n",
       "    <tr>\n",
       "      <th>...</th>\n",
       "      <td>...</td>\n",
       "      <td>...</td>\n",
       "      <td>...</td>\n",
       "      <td>...</td>\n",
       "      <td>...</td>\n",
       "      <td>...</td>\n",
       "    </tr>\n",
       "    <tr>\n",
       "      <th>2437</th>\n",
       "      <td>12.1</td>\n",
       "      <td>log n</td>\n",
       "      <td>5.0</td>\n",
       "      <td>1.0</td>\n",
       "      <td>log n</td>\n",
       "      <td>[log, n]</td>\n",
       "    </tr>\n",
       "    <tr>\n",
       "      <th>2438</th>\n",
       "      <td>12.1</td>\n",
       "      <td>minus 1 divided by 2</td>\n",
       "      <td>1.5</td>\n",
       "      <td>0.0</td>\n",
       "      <td>minus 1 divided by 2</td>\n",
       "      <td>[minus, 1, divided, 2]</td>\n",
       "    </tr>\n",
       "    <tr>\n",
       "      <th>2439</th>\n",
       "      <td>12.1</td>\n",
       "      <td>2n-1</td>\n",
       "      <td>2.5</td>\n",
       "      <td>0.0</td>\n",
       "      <td>2n 1</td>\n",
       "      <td>[2n, 1]</td>\n",
       "    </tr>\n",
       "    <tr>\n",
       "      <th>2440</th>\n",
       "      <td>12.1</td>\n",
       "      <td>it takes at most h steps, where h is the heigh...</td>\n",
       "      <td>5.0</td>\n",
       "      <td>1.0</td>\n",
       "      <td>it takes at most h steps where h is the height...</td>\n",
       "      <td>[take, h, step, h, height, tree]</td>\n",
       "    </tr>\n",
       "    <tr>\n",
       "      <th>2441</th>\n",
       "      <td>12.1</td>\n",
       "      <td>it depends on the install search tree then fro...</td>\n",
       "      <td>1.5</td>\n",
       "      <td>0.0</td>\n",
       "      <td>it depends on the install search tree then fro...</td>\n",
       "      <td>[depends, install, search, tree, whatever, cas...</td>\n",
       "    </tr>\n",
       "  </tbody>\n",
       "</table>\n",
       "<p>2442 rows × 6 columns</p>\n",
       "</div>"
      ],
      "text/plain": [
       "        id                                             answer  score  correct  \\\n",
       "0      1.1  High risk problems are address in the prototyp...    3.5      0.0   \n",
       "1      1.1  To simulate portions of the desired final prod...    5.0      1.0   \n",
       "2      1.1  A prototype program simulates the behaviors of...    4.0      1.0   \n",
       "3      1.1  Defined in the Specification phase a prototype...    5.0      1.0   \n",
       "4      1.1  It is used to let the users have a first idea ...    3.0      0.0   \n",
       "...    ...                                                ...    ...      ...   \n",
       "2437  12.1                                              log n    5.0      1.0   \n",
       "2438  12.1                               minus 1 divided by 2    1.5      0.0   \n",
       "2439  12.1                                               2n-1    2.5      0.0   \n",
       "2440  12.1  it takes at most h steps, where h is the heigh...    5.0      1.0   \n",
       "2441  12.1  it depends on the install search tree then fro...    1.5      0.0   \n",
       "\n",
       "                                         cleaned_answer  \\\n",
       "0     high risk problems are address in the prototyp...   \n",
       "1     to simulate portions of the desired final prod...   \n",
       "2     a prototype program simulates the behaviors of...   \n",
       "3     defined in the specification phase a prototype...   \n",
       "4     it is used to let the users have a first idea ...   \n",
       "...                                                 ...   \n",
       "2437                                              log n   \n",
       "2438                               minus 1 divided by 2   \n",
       "2439                                               2n 1   \n",
       "2440  it takes at most h steps where h is the height...   \n",
       "2441  it depends on the install search tree then fro...   \n",
       "\n",
       "                                                 tokens  \n",
       "0     [high, risk, problem, address, prototype, prog...  \n",
       "1     [simulate, portion, desired, final, product, q...  \n",
       "2     [prototype, program, simulates, behavior, port...  \n",
       "3     [defined, specification, phase, prototype, sti...  \n",
       "4     [used, let, user, first, idea, completed, prog...  \n",
       "...                                                 ...  \n",
       "2437                                           [log, n]  \n",
       "2438                             [minus, 1, divided, 2]  \n",
       "2439                                            [2n, 1]  \n",
       "2440                   [take, h, step, h, height, tree]  \n",
       "2441  [depends, install, search, tree, whatever, cas...  \n",
       "\n",
       "[2442 rows x 6 columns]"
      ]
     },
     "execution_count": 5,
     "metadata": {},
     "output_type": "execute_result"
    }
   ],
   "source": [
    "df['tokens'] = df['cleaned_answer'].apply(tokenize)\n",
    "df['tokens'] = df['tokens'].apply(remove_stopwords)\n",
    "df['tokens'] = df['tokens'].apply(lemmatize)\n",
    "df"
   ]
  },
  {
   "cell_type": "markdown",
   "id": "fc608afc-b7f4-4cfc-acc7-91032ca04c0d",
   "metadata": {},
   "source": [
    "## Word Embedding :"
   ]
  },
  {
   "cell_type": "markdown",
   "id": "c03ac4b4-ad58-435c-af55-6d6693dcf0e0",
   "metadata": {},
   "source": [
    "### Word2Vec Embedding"
   ]
  },
  {
   "cell_type": "code",
   "execution_count": 6,
   "id": "e1ea04c8-43c1-4363-943d-f014fd7bc9ec",
   "metadata": {},
   "outputs": [],
   "source": [
    "df['processed_text'] = df['tokens'].apply(lambda x: ' '.join(x))\n",
    "word2vec_model = Word2Vec(sentences=df['tokens'], vector_size=100, window=5, min_count=1, sg=0)\n",
    "# Generate Word2Vec embeddings for each answer\n",
    "def get_avg_word2vec(tokens, model, vector_size):\n",
    "    vectors = [model.wv[word] for word in tokens if word in model.wv]\n",
    "    if len(vectors) == 0:\n",
    "        return [0] * vector_size\n",
    "    else:\n",
    "        return np.mean(vectors, axis=0)\n",
    "\n",
    "df['word2vec'] = df['tokens'].apply(lambda x: get_avg_word2vec(x, word2vec_model, 100))"
   ]
  },
  {
   "cell_type": "markdown",
   "id": "4ff5932f-5a18-46bc-aab6-c0542235109d",
   "metadata": {},
   "source": [
    "### Bag of Words (BoW)"
   ]
  },
  {
   "cell_type": "code",
   "execution_count": 7,
   "id": "6c65deab-7cb5-4d40-984e-152a98f707c0",
   "metadata": {},
   "outputs": [],
   "source": [
    "#CountVectorizer : Convert a collection of text documents to a matrix of token counts.\n",
    "count_vect = CountVectorizer()\n",
    "# fit & transform will represent each sentences as BOW representation\n",
    "BOW = count_vect.fit_transform(df['processed_text'])\n",
    "# Convert to DataFrame for readability\n",
    "bow_df = pd.DataFrame(BOW.toarray(), columns=count_vect.get_feature_names_out())"
   ]
  },
  {
   "cell_type": "markdown",
   "id": "4ee08a00-a09b-4d57-ac42-36d06e04db45",
   "metadata": {},
   "source": [
    "### TF-IDF"
   ]
  },
  {
   "cell_type": "code",
   "execution_count": 8,
   "id": "21475c62-7067-42ee-be52-ac1d91e09429",
   "metadata": {},
   "outputs": [
    {
     "data": {
      "text/html": [
       "<div>\n",
       "<style scoped>\n",
       "    .dataframe tbody tr th:only-of-type {\n",
       "        vertical-align: middle;\n",
       "    }\n",
       "\n",
       "    .dataframe tbody tr th {\n",
       "        vertical-align: top;\n",
       "    }\n",
       "\n",
       "    .dataframe thead th {\n",
       "        text-align: right;\n",
       "    }\n",
       "</style>\n",
       "<table border=\"1\" class=\"dataframe\">\n",
       "  <thead>\n",
       "    <tr style=\"text-align: right;\">\n",
       "      <th></th>\n",
       "      <th>id</th>\n",
       "      <th>answer</th>\n",
       "      <th>score</th>\n",
       "      <th>correct</th>\n",
       "      <th>cleaned_answer</th>\n",
       "      <th>tokens</th>\n",
       "      <th>processed_text</th>\n",
       "      <th>word2vec</th>\n",
       "    </tr>\n",
       "  </thead>\n",
       "  <tbody>\n",
       "    <tr>\n",
       "      <th>0</th>\n",
       "      <td>1.1</td>\n",
       "      <td>High risk problems are address in the prototyp...</td>\n",
       "      <td>3.5</td>\n",
       "      <td>0.0</td>\n",
       "      <td>high risk problems are address in the prototyp...</td>\n",
       "      <td>[high, risk, problem, address, prototype, prog...</td>\n",
       "      <td>high risk problem address prototype program ma...</td>\n",
       "      <td>[-0.062628634, 0.2310279, 0.20052093, 0.131976...</td>\n",
       "    </tr>\n",
       "    <tr>\n",
       "      <th>1</th>\n",
       "      <td>1.1</td>\n",
       "      <td>To simulate portions of the desired final prod...</td>\n",
       "      <td>5.0</td>\n",
       "      <td>1.0</td>\n",
       "      <td>to simulate portions of the desired final prod...</td>\n",
       "      <td>[simulate, portion, desired, final, product, q...</td>\n",
       "      <td>simulate portion desired final product quick e...</td>\n",
       "      <td>[-0.049643647, 0.18079025, 0.15378647, 0.10098...</td>\n",
       "    </tr>\n",
       "    <tr>\n",
       "      <th>2</th>\n",
       "      <td>1.1</td>\n",
       "      <td>A prototype program simulates the behaviors of...</td>\n",
       "      <td>4.0</td>\n",
       "      <td>1.0</td>\n",
       "      <td>a prototype program simulates the behaviors of...</td>\n",
       "      <td>[prototype, program, simulates, behavior, port...</td>\n",
       "      <td>prototype program simulates behavior portion d...</td>\n",
       "      <td>[-0.053711306, 0.19835444, 0.17079805, 0.10989...</td>\n",
       "    </tr>\n",
       "    <tr>\n",
       "      <th>3</th>\n",
       "      <td>1.1</td>\n",
       "      <td>Defined in the Specification phase a prototype...</td>\n",
       "      <td>5.0</td>\n",
       "      <td>1.0</td>\n",
       "      <td>defined in the specification phase a prototype...</td>\n",
       "      <td>[defined, specification, phase, prototype, sti...</td>\n",
       "      <td>defined specification phase prototype stimulat...</td>\n",
       "      <td>[-0.05189281, 0.18645594, 0.16027167, 0.104846...</td>\n",
       "    </tr>\n",
       "    <tr>\n",
       "      <th>4</th>\n",
       "      <td>1.1</td>\n",
       "      <td>It is used to let the users have a first idea ...</td>\n",
       "      <td>3.0</td>\n",
       "      <td>0.0</td>\n",
       "      <td>it is used to let the users have a first idea ...</td>\n",
       "      <td>[used, let, user, first, idea, completed, prog...</td>\n",
       "      <td>used let user first idea completed program all...</td>\n",
       "      <td>[-0.0424904, 0.16227338, 0.13729529, 0.0906302...</td>\n",
       "    </tr>\n",
       "    <tr>\n",
       "      <th>...</th>\n",
       "      <td>...</td>\n",
       "      <td>...</td>\n",
       "      <td>...</td>\n",
       "      <td>...</td>\n",
       "      <td>...</td>\n",
       "      <td>...</td>\n",
       "      <td>...</td>\n",
       "      <td>...</td>\n",
       "    </tr>\n",
       "    <tr>\n",
       "      <th>2437</th>\n",
       "      <td>12.1</td>\n",
       "      <td>log n</td>\n",
       "      <td>5.0</td>\n",
       "      <td>1.0</td>\n",
       "      <td>log n</td>\n",
       "      <td>[log, n]</td>\n",
       "      <td>log n</td>\n",
       "      <td>[-0.07435466, 0.15510653, 0.14622065, 0.120482...</td>\n",
       "    </tr>\n",
       "    <tr>\n",
       "      <th>2438</th>\n",
       "      <td>12.1</td>\n",
       "      <td>minus 1 divided by 2</td>\n",
       "      <td>1.5</td>\n",
       "      <td>0.0</td>\n",
       "      <td>minus 1 divided by 2</td>\n",
       "      <td>[minus, 1, divided, 2]</td>\n",
       "      <td>minus 1 divided 2</td>\n",
       "      <td>[-0.077751786, 0.2193637, 0.18874297, 0.148487...</td>\n",
       "    </tr>\n",
       "    <tr>\n",
       "      <th>2439</th>\n",
       "      <td>12.1</td>\n",
       "      <td>2n-1</td>\n",
       "      <td>2.5</td>\n",
       "      <td>0.0</td>\n",
       "      <td>2n 1</td>\n",
       "      <td>[2n, 1]</td>\n",
       "      <td>2n 1</td>\n",
       "      <td>[-0.059242386, 0.1795503, 0.15395692, 0.110506...</td>\n",
       "    </tr>\n",
       "    <tr>\n",
       "      <th>2440</th>\n",
       "      <td>12.1</td>\n",
       "      <td>it takes at most h steps, where h is the heigh...</td>\n",
       "      <td>5.0</td>\n",
       "      <td>1.0</td>\n",
       "      <td>it takes at most h steps where h is the height...</td>\n",
       "      <td>[take, h, step, h, height, tree]</td>\n",
       "      <td>take h step h height tree</td>\n",
       "      <td>[-0.06515992, 0.23860396, 0.19820057, 0.131388...</td>\n",
       "    </tr>\n",
       "    <tr>\n",
       "      <th>2441</th>\n",
       "      <td>12.1</td>\n",
       "      <td>it depends on the install search tree then fro...</td>\n",
       "      <td>1.5</td>\n",
       "      <td>0.0</td>\n",
       "      <td>it depends on the install search tree then fro...</td>\n",
       "      <td>[depends, install, search, tree, whatever, cas...</td>\n",
       "      <td>depends install search tree whatever case repe...</td>\n",
       "      <td>[-0.07616482, 0.25350428, 0.20946027, 0.134545...</td>\n",
       "    </tr>\n",
       "  </tbody>\n",
       "</table>\n",
       "<p>2442 rows × 8 columns</p>\n",
       "</div>"
      ],
      "text/plain": [
       "        id                                             answer  score  correct  \\\n",
       "0      1.1  High risk problems are address in the prototyp...    3.5      0.0   \n",
       "1      1.1  To simulate portions of the desired final prod...    5.0      1.0   \n",
       "2      1.1  A prototype program simulates the behaviors of...    4.0      1.0   \n",
       "3      1.1  Defined in the Specification phase a prototype...    5.0      1.0   \n",
       "4      1.1  It is used to let the users have a first idea ...    3.0      0.0   \n",
       "...    ...                                                ...    ...      ...   \n",
       "2437  12.1                                              log n    5.0      1.0   \n",
       "2438  12.1                               minus 1 divided by 2    1.5      0.0   \n",
       "2439  12.1                                               2n-1    2.5      0.0   \n",
       "2440  12.1  it takes at most h steps, where h is the heigh...    5.0      1.0   \n",
       "2441  12.1  it depends on the install search tree then fro...    1.5      0.0   \n",
       "\n",
       "                                         cleaned_answer  \\\n",
       "0     high risk problems are address in the prototyp...   \n",
       "1     to simulate portions of the desired final prod...   \n",
       "2     a prototype program simulates the behaviors of...   \n",
       "3     defined in the specification phase a prototype...   \n",
       "4     it is used to let the users have a first idea ...   \n",
       "...                                                 ...   \n",
       "2437                                              log n   \n",
       "2438                               minus 1 divided by 2   \n",
       "2439                                               2n 1   \n",
       "2440  it takes at most h steps where h is the height...   \n",
       "2441  it depends on the install search tree then fro...   \n",
       "\n",
       "                                                 tokens  \\\n",
       "0     [high, risk, problem, address, prototype, prog...   \n",
       "1     [simulate, portion, desired, final, product, q...   \n",
       "2     [prototype, program, simulates, behavior, port...   \n",
       "3     [defined, specification, phase, prototype, sti...   \n",
       "4     [used, let, user, first, idea, completed, prog...   \n",
       "...                                                 ...   \n",
       "2437                                           [log, n]   \n",
       "2438                             [minus, 1, divided, 2]   \n",
       "2439                                            [2n, 1]   \n",
       "2440                   [take, h, step, h, height, tree]   \n",
       "2441  [depends, install, search, tree, whatever, cas...   \n",
       "\n",
       "                                         processed_text  \\\n",
       "0     high risk problem address prototype program ma...   \n",
       "1     simulate portion desired final product quick e...   \n",
       "2     prototype program simulates behavior portion d...   \n",
       "3     defined specification phase prototype stimulat...   \n",
       "4     used let user first idea completed program all...   \n",
       "...                                                 ...   \n",
       "2437                                              log n   \n",
       "2438                                  minus 1 divided 2   \n",
       "2439                                               2n 1   \n",
       "2440                          take h step h height tree   \n",
       "2441  depends install search tree whatever case repe...   \n",
       "\n",
       "                                               word2vec  \n",
       "0     [-0.062628634, 0.2310279, 0.20052093, 0.131976...  \n",
       "1     [-0.049643647, 0.18079025, 0.15378647, 0.10098...  \n",
       "2     [-0.053711306, 0.19835444, 0.17079805, 0.10989...  \n",
       "3     [-0.05189281, 0.18645594, 0.16027167, 0.104846...  \n",
       "4     [-0.0424904, 0.16227338, 0.13729529, 0.0906302...  \n",
       "...                                                 ...  \n",
       "2437  [-0.07435466, 0.15510653, 0.14622065, 0.120482...  \n",
       "2438  [-0.077751786, 0.2193637, 0.18874297, 0.148487...  \n",
       "2439  [-0.059242386, 0.1795503, 0.15395692, 0.110506...  \n",
       "2440  [-0.06515992, 0.23860396, 0.19820057, 0.131388...  \n",
       "2441  [-0.07616482, 0.25350428, 0.20946027, 0.134545...  \n",
       "\n",
       "[2442 rows x 8 columns]"
      ]
     },
     "execution_count": 8,
     "metadata": {},
     "output_type": "execute_result"
    }
   ],
   "source": [
    "# TF-IDF\n",
    "tfidf = TfidfVectorizer()\n",
    "tfidf_matrix = tfidf.fit_transform(df['processed_text'])\n",
    "# Convert to DataFrame for readability\n",
    "tfidf_df = pd.DataFrame(tfidf_matrix.toarray(), columns=tfidf.get_feature_names_out())\n",
    "df"
   ]
  },
  {
   "cell_type": "markdown",
   "id": "62ee1645-b943-4f8c-a68d-c555c8993859",
   "metadata": {},
   "source": [
    "### Model Training and Evaluation"
   ]
  },
  {
   "cell_type": "code",
   "execution_count": 9,
   "id": "9b3d07dd-861a-4de3-90a1-2f049f6b536b",
   "metadata": {},
   "outputs": [],
   "source": [
    "X = list(df['word2vec'])\n",
    "y = df['score']"
   ]
  },
  {
   "cell_type": "code",
   "execution_count": 10,
   "id": "3733286d-955f-4e4d-b602-e99131cf7fd7",
   "metadata": {},
   "outputs": [],
   "source": [
    "X_train, X_test, y_train, y_test = train_test_split(X, y, test_size=0.2, random_state=42)\n",
    "X_train = np.array(X_train)\n",
    "X_test = np.array(X_test)"
   ]
  },
  {
   "cell_type": "markdown",
   "id": "26519054-8c18-41b1-9750-fca4a61d7aca",
   "metadata": {},
   "source": [
    "### SVR :"
   ]
  },
  {
   "cell_type": "code",
   "execution_count": 11,
   "id": "e492c0d3-5535-43bd-ba0b-7b6fe63a9357",
   "metadata": {},
   "outputs": [],
   "source": [
    "SVR = SVR()\n",
    "SVR.fit(X_train, y_train)\n",
    "SVR_predictions = SVR.predict(X_test)\n",
    "SVR_mse = mean_squared_error(y_test, SVR_predictions)\n",
    "SVR_rmse = np.sqrt(SVR_mse)"
   ]
  },
  {
   "cell_type": "markdown",
   "id": "1a0bef5c-b469-4ca8-ab2a-ed205ff7d487",
   "metadata": {},
   "source": [
    "### Linear Regression :"
   ]
  },
  {
   "cell_type": "code",
   "execution_count": 12,
   "id": "3f550f97-149b-4177-911a-b6ca0f40fb5c",
   "metadata": {},
   "outputs": [],
   "source": [
    "LR = LinearRegression()\n",
    "LR.fit(X_train, y_train)\n",
    "LR_predictions = LR.predict(X_test)\n",
    "LR_mse = mean_squared_error(y_test, LR_predictions)\n",
    "LR_rmse = np.sqrt(LR_mse)"
   ]
  },
  {
   "cell_type": "markdown",
   "id": "96097718-58f1-4aa9-9ce9-71fb03c657cd",
   "metadata": {},
   "source": [
    "### Decision Tree :"
   ]
  },
  {
   "cell_type": "code",
   "execution_count": 13,
   "id": "a984ae73-df7f-47aa-a627-7a5ea5a43312",
   "metadata": {},
   "outputs": [],
   "source": [
    "DT = DecisionTreeRegressor()\n",
    "DT.fit(X_train, y_train)\n",
    "DT_predictions = DT.predict(X_test)\n",
    "DT_mse = mean_squared_error(y_test, DT_predictions)\n",
    "DT_rmse = np.sqrt(DT_mse)"
   ]
  },
  {
   "cell_type": "markdown",
   "id": "49d5ca70-6300-4f29-8693-6971e2003150",
   "metadata": {},
   "source": [
    "### Naive Bayes :"
   ]
  },
  {
   "cell_type": "code",
   "execution_count": 14,
   "id": "1f9abd3d-d2d4-4aff-a6b3-7834b99af4a2",
   "metadata": {},
   "outputs": [],
   "source": [
    "y_dis = pd.qcut(y, q=4, labels=False, duplicates='drop') # Discretize into 4 quantiles\n",
    "X_train_dis, X_test_dis, y_train_dis, y_test_dis = train_test_split(X, y_dis, test_size=0.2, random_state=42)\n",
    "X_train_dis = np.array(X_train_dis)\n",
    "X_test_dis = np.array(X_test_dis)\n",
    "\n",
    "NB = GaussianNB()\n",
    "NB.fit(X_train_dis, y_train_dis)\n",
    "NB_predictions = NB.predict(X_test_dis)\n",
    "\n",
    "NB_mse = mean_squared_error(y_test, NB_predictions)\n",
    "NB_rmse = np.sqrt(NB_mse)"
   ]
  },
  {
   "cell_type": "code",
   "execution_count": 15,
   "id": "24ed18c3-e7bc-423a-87ba-bb9b928ce412",
   "metadata": {},
   "outputs": [
    {
     "name": "stdout",
     "output_type": "stream",
     "text": [
      "SVR_mse: 1.7335, SVR_rmse: 1.3166\n",
      "NB_mse: 12.1828, SVR_rmse: 3.4904\n",
      "LR_mse: 1.2779, SVR_rmse: 1.1304\n",
      "DT_mse: 1.8704, SVR_rmse: 1.3676\n"
     ]
    }
   ],
   "source": [
    "print(f\"SVR_mse: {SVR_mse:.4f}, SVR_rmse: {SVR_rmse:.4f}\")\n",
    "print(f\"NB_mse: {NB_mse:.4f}, SVR_rmse: {NB_rmse:.4f}\")\n",
    "print(f\"LR_mse: {LR_mse:.4f}, SVR_rmse: {LR_rmse:.4f}\")\n",
    "print(f\"DT_mse: {DT_mse:.4f}, SVR_rmse: {DT_rmse:.4f}\")"
   ]
  },
  {
   "cell_type": "code",
   "execution_count": null,
   "id": "875e889d-e149-4bca-be2b-b8b02583efd5",
   "metadata": {},
   "outputs": [],
   "source": []
  },
  {
   "cell_type": "code",
   "execution_count": 16,
   "id": "8d83669e-2737-439d-b453-8ea12b115405",
   "metadata": {},
   "outputs": [
    {
     "data": {
      "image/png": "[encoded data removed]",
      "text/plain": [
       "<Figure size 1000x600 with 1 Axes>"
      ]
     },
     "metadata": {},
     "output_type": "display_data"
    }
   ],
   "source": [
    "# Define the names and results for each model\n",
    "model_names = [\"SVR\", \"NB\", \"LR\", \"DT\"]\n",
    "mse_values = [SVR_mse, NB_mse, LR_mse, DT_mse]\n",
    "rmse_values = [SVR_rmse, NB_rmse, LR_rmse, DT_rmse]\n",
    "\n",
    "# Number of models\n",
    "n_models = len(model_names)\n",
    "\n",
    "# Positions of the bars on the x-axis\n",
    "bar_width = 0.35\n",
    "index = np.arange(n_models)\n",
    "\n",
    "# Plotting\n",
    "plt.figure(figsize=(10, 6))\n",
    "\n",
    "# Plot MSE bars\n",
    "plt.bar(index, mse_values, bar_width, color='blue', label='MSE')\n",
    "\n",
    "# Plot RMSE bars next to MSE bars\n",
    "plt.bar(index + bar_width, rmse_values, bar_width, color='RED', label='RMSE')\n",
    "\n",
    "# Adding labels\n",
    "plt.xlabel('Models')\n",
    "plt.ylabel('Error')\n",
    "plt.title('Comparison of Model Performance')\n",
    "plt.xticks(index + bar_width / 2, model_names)\n",
    "plt.legend()\n",
    "\n",
    "# Adding text annotations for MSE values\n",
    "for i, v in enumerate(mse_values):\n",
    "    plt.text(i - 0.1, v + 0.01, f'{v:.4f}', ha='center')\n",
    "\n",
    "# Adding text annotations for RMSE values\n",
    "for i, v in enumerate(rmse_values):\n",
    "    plt.text(i + bar_width - 0.1, v + 0.01, f'{v:.4f}', ha='center')\n",
    "\n",
    "plt.tight_layout()\n",
    "plt.show()"
   ]
  },
  {
   "cell_type": "markdown",
   "id": "6897ca0b-644e-49eb-8eb7-ddb8aa2d8372",
   "metadata": {},
   "source": [
    "## Conclusion :"
   ]
  },
  {
   "cell_type": "markdown",
   "id": "ba74300d-0519-49fc-afb7-aca220c78f17",
   "metadata": {},
   "source": [
    "### In conclusion, Linear Regression is the preferred choice for predictive modeling on this dataset based on the Mean Squared Error (MSE) and Root Mean Squared Error (RMSE), it shows the lowest MSE and RMSE values. This implies that its predictions align most closely with the actual values.However,it's important to also consider other aspects such as model assumptions, computational efficiency, and interpretability when finalizing the model choice."
   ]
  },
  {
   "cell_type": "markdown",
   "id": "2f4bd020-cbbb-4448-a539-badd5d72ee4f",
   "metadata": {},
   "source": [
    "# PART2 : **Language Modeling / Classification**"
   ]
  },
  {
   "cell_type": "code",
   "execution_count": 17,
   "id": "dac76192-d78c-4320-a388-1e099eab1612",
   "metadata": {},
   "outputs": [
    {
     "name": "stdout",
     "output_type": "stream",
     "text": [
      "     ID       Entity Sentiment  \\\n",
      "0  2401  Borderlands  Positive   \n",
      "1  2401  Borderlands  Positive   \n",
      "2  2401  Borderlands  Positive   \n",
      "3  2401  Borderlands  Positive   \n",
      "4  2401  Borderlands  Positive   \n",
      "\n",
      "                                                Text  \n",
      "0  I am coming to the borders and I will kill you...  \n",
      "1  im getting on borderlands and i will kill you ...  \n",
      "2  im coming on borderlands and i will murder you...  \n",
      "3  im getting on borderlands 2 and i will murder ...  \n",
      "4  im getting into borderlands and i can murder y...  \n"
     ]
    }
   ],
   "source": [
    "df1 = pd.read_csv(\"twitter.csv\")\n",
    "df1.columns = ['ID', 'Entity', 'Sentiment', 'Text']\n",
    "print(df1.head())"
   ]
  },
  {
   "cell_type": "code",
   "execution_count": 19,
   "id": "6666c3f8-cebb-41eb-899b-b0c309269e8a",
   "metadata": {},
   "outputs": [],
   "source": [
    "df1['cleaned_text'] = df1['Text'].apply(preprocess_text)\n",
    "df1['tokens'] = df1['cleaned_text'].apply(tokenize)\n",
    "df1['tokens'] = df1['tokens'].apply(remove_stopwords)\n",
    "df1['tokens'] = df1['tokens'].apply(lemmatize)"
   ]
  },
  {
   "cell_type": "markdown",
   "id": "e0a53b6b-ae24-4ad8-90aa-594e530ea12e",
   "metadata": {},
   "source": [
    "## **Encode Data Vectors**"
   ]
  },
  {
   "cell_type": "code",
   "execution_count": 20,
   "id": "19b933c5-aa6d-477c-abe7-800c2deba4a5",
   "metadata": {},
   "outputs": [],
   "source": [
    "word2vec_model = Word2Vec(sentences=df1['tokens'], vector_size=100, window=5, min_count=1, sg=0)\n",
    "\n",
    "# Function to get word embeddings\n",
    "def get_word_embedding(tokens, model):\n",
    "    embeddings = []\n",
    "    for word in tokens:\n",
    "        if word in model.wv:\n",
    "            embeddings.append(model.wv[word])\n",
    "    if embeddings:\n",
    "        return np.mean(embeddings, axis=0)\n",
    "    else:\n",
    "        return np.zeros(model.vector_size)  # Return zero vector if no embeddings found\n",
    "\n",
    "# Apply word embeddings\n",
    "df1_word2vec = df1['tokens'].apply(lambda x: get_word_embedding(x, word2vec_model))"
   ]
  },
  {
   "cell_type": "markdown",
   "id": "2543b3cb-40ef-4954-a080-29fdf4934c42",
   "metadata": {},
   "source": [
    "### Bag of Words"
   ]
  },
  {
   "cell_type": "code",
   "execution_count": 21,
   "id": "848436b8-40e8-4eb4-9777-b5e20e43b8e9",
   "metadata": {},
   "outputs": [],
   "source": [
    "vectorizer = CountVectorizer()\n",
    "bow = vectorizer.fit_transform(df1['cleaned_text'])"
   ]
  },
  {
   "cell_type": "markdown",
   "id": "cb1bdd9b-f569-4efb-ba35-38b83d60fd27",
   "metadata": {},
   "source": [
    "### TF-IDF"
   ]
  },
  {
   "cell_type": "code",
   "execution_count": 22,
   "id": "428d920a-0e67-4157-bf9e-2716e533853b",
   "metadata": {},
   "outputs": [],
   "source": [
    "tfidf_vectorizer = TfidfVectorizer()\n",
    "tfidf = tfidf_vectorizer.fit_transform(df1['cleaned_text'])\n"
   ]
  },
  {
   "cell_type": "markdown",
   "id": "c72f6ad4-1be2-424b-a2d1-c5932b853457",
   "metadata": {},
   "source": [
    "# **Train Models**"
   ]
  },
  {
   "cell_type": "code",
   "execution_count": 23,
   "id": "01bf3f59-ef4e-4452-ae8d-5d4b42e875ee",
   "metadata": {},
   "outputs": [],
   "source": [
    "X = np.vstack(df1_word2vec)\n",
    "y = df1['Sentiment'].values\n",
    "X_train, X_test, y_train, y_test = train_test_split(X, y, test_size=0.2, random_state=42)\n"
   ]
  },
  {
   "cell_type": "code",
   "execution_count": 24,
   "id": "1b9793b2-148d-4b50-a483-e7e7d328ade2",
   "metadata": {},
   "outputs": [
    {
     "name": "stdout",
     "output_type": "stream",
     "text": [
      "SVM Accuracy: 0.5247372296980652\n"
     ]
    }
   ],
   "source": [
    "svm = SVC(kernel='linear')\n",
    "svm.fit(X_train, y_train)\n",
    "svm_pred = svm.predict(X_test)\n",
    "\n",
    "# Calculate accuracy\n",
    "svm_accuracy = accuracy_score(y_test, svm_pred)\n",
    "print(\"SVM Accuracy:\", svm_accuracy)"
   ]
  },
  {
   "cell_type": "code",
   "execution_count": 25,
   "id": "332cfde3-57ce-4bd4-9900-60839226b827",
   "metadata": {},
   "outputs": [
    {
     "name": "stdout",
     "output_type": "stream",
     "text": [
      "Confusion Matrix:\n",
      "[[ 357  792  703  809]\n",
      " [ 131 3106  650  584]\n",
      " [ 115  818 1917  701]\n",
      " [ 148  804  844 2458]]\n"
     ]
    }
   ],
   "source": [
    "# Calculer la matrice de confusion\n",
    "conf_matrix = confusion_matrix(y_test, svm_pred)\n",
    "print(\"Confusion Matrix:\")\n",
    "print(conf_matrix)"
   ]
  },
  {
   "cell_type": "code",
   "execution_count": 26,
   "id": "113c4381-5b3a-4df8-8612-493cfa9d2fda",
   "metadata": {},
   "outputs": [
    {
     "data": {
      "image/png": "[encoded data removed]",
      "text/plain": [
       "<Figure size 640x480 with 2 Axes>"
      ]
     },
     "metadata": {},
     "output_type": "display_data"
    }
   ],
   "source": [
    "# Afficher la matrice de confusion\n",
    "disp = ConfusionMatrixDisplay(confusion_matrix=conf_matrix)\n",
    "disp.plot(cmap='Blues')\n",
    "plt.show()"
   ]
  },
  {
   "cell_type": "code",
   "execution_count": 27,
   "id": "ccb2e9ec-4383-4680-9880-71b2a072d15f",
   "metadata": {},
   "outputs": [
    {
     "name": "stdout",
     "output_type": "stream",
     "text": [
      "Classification Report for Naive Bayes:\n",
      "              precision    recall  f1-score   support\n",
      "\n",
      "  Irrelevant       0.48      0.13      0.21      2661\n",
      "    Negative       0.56      0.69      0.62      4471\n",
      "     Neutral       0.47      0.54      0.50      3551\n",
      "    Positive       0.54      0.58      0.56      4254\n",
      "\n",
      "    accuracy                           0.52     14937\n",
      "   macro avg       0.51      0.49      0.47     14937\n",
      "weighted avg       0.52      0.52      0.50     14937\n",
      "\n"
     ]
    }
   ],
   "source": [
    "print(\"Classification Report for Naive Bayes:\")\n",
    "print(classification_report(y_test, svm_pred))"
   ]
  },
  {
   "cell_type": "code",
   "execution_count": 28,
   "id": "c33ec645-25ec-417f-8c44-256121e78087",
   "metadata": {},
   "outputs": [
    {
     "name": "stdout",
     "output_type": "stream",
     "text": [
      "Naive Bayes Accuracy: 0.45477672892816495\n"
     ]
    }
   ],
   "source": [
    "# Naive Bayes classifier\n",
    "NBC = GaussianNB()\n",
    "NBC.fit(X_train, y_train)\n",
    "NBP = NBC.predict(X_test)\n",
    "NB_acc = accuracy_score(y_test, NBP)\n",
    "print(\"Naive Bayes Accuracy:\", NB_acc)"
   ]
  },
  {
   "cell_type": "code",
   "execution_count": 29,
   "id": "46e93dfd-6e7c-470d-94e9-687554d89554",
   "metadata": {},
   "outputs": [
    {
     "name": "stdout",
     "output_type": "stream",
     "text": [
      "Confusion Matrix:\n",
      "[[1105  722  400  434]\n",
      " [ 830 2584  550  507]\n",
      " [ 930  654 1446  521]\n",
      " [1210  816  570 1658]]\n"
     ]
    }
   ],
   "source": [
    "# Calculer la matrice de confusion\n",
    "conf_matrix = confusion_matrix(y_test, NBP)\n",
    "print(\"Confusion Matrix:\")\n",
    "print(conf_matrix)"
   ]
  },
  {
   "cell_type": "code",
   "execution_count": 30,
   "id": "43f52567-08fd-4330-a1b9-3ee49401027c",
   "metadata": {},
   "outputs": [
    {
     "data": {
      "image/png": "[encoded data removed]",
      "text/plain": [
       "<Figure size 640x480 with 2 Axes>"
      ]
     },
     "metadata": {},
     "output_type": "display_data"
    }
   ],
   "source": [
    "# Afficher la matrice de confusion\n",
    "disp = ConfusionMatrixDisplay(confusion_matrix=conf_matrix)\n",
    "disp.plot(cmap='Blues')\n",
    "plt.show()"
   ]
  },
  {
   "cell_type": "code",
   "execution_count": 31,
   "id": "f9285147-ff77-4671-b0a1-cca3eed1120f",
   "metadata": {},
   "outputs": [
    {
     "name": "stdout",
     "output_type": "stream",
     "text": [
      "Classification Report for Naive Bayes:\n",
      "              precision    recall  f1-score   support\n",
      "\n",
      "  Irrelevant       0.27      0.42      0.33      2661\n",
      "    Negative       0.54      0.58      0.56      4471\n",
      "     Neutral       0.49      0.41      0.44      3551\n",
      "    Positive       0.53      0.39      0.45      4254\n",
      "\n",
      "    accuracy                           0.45     14937\n",
      "   macro avg       0.46      0.45      0.45     14937\n",
      "weighted avg       0.48      0.45      0.46     14937\n",
      "\n"
     ]
    }
   ],
   "source": [
    "print(\"Classification Report for Naive Bayes:\")\n",
    "print(classification_report(y_test, NBP))"
   ]
  },
  {
   "cell_type": "code",
   "execution_count": 36,
   "id": "4d94561b-2308-4509-936e-16cb2bc971df",
   "metadata": {},
   "outputs": [
    {
     "name": "stdout",
     "output_type": "stream",
     "text": [
      "Logistic Regression Accuracy: 0.5240677512217983\n"
     ]
    }
   ],
   "source": [
    "LGR = LogisticRegression(max_iter=1000)\n",
    "LGR.fit(X_train, y_train)\n",
    "LGRP = LGR.predict(X_test)\n",
    "LGR_acc = accuracy_score(y_test, LGRP)\n",
    "print(\"Logistic Regression Accuracy:\", LGR_acc)"
   ]
  },
  {
   "cell_type": "code",
   "execution_count": 41,
   "id": "95b6e2ad-e5ab-43c4-a19c-34ee456472ea",
   "metadata": {},
   "outputs": [
    {
     "name": "stdout",
     "output_type": "stream",
     "text": [
      "Confusion Matrix:\n",
      "[[ 419  773  662  807]\n",
      " [ 158 3061  656  596]\n",
      " [ 121  817 1906  707]\n",
      " [ 172  799  841 2442]]\n"
     ]
    }
   ],
   "source": [
    "# Calculer la matrice de confusion\n",
    "conf_matrix = confusion_matrix(y_test, LGRP)\n",
    "print(\"Confusion Matrix:\")\n",
    "print(conf_matrix)"
   ]
  },
  {
   "cell_type": "code",
   "execution_count": 39,
   "id": "d0927da7-1ded-4df5-b5ec-e848c62b45b0",
   "metadata": {},
   "outputs": [
    {
     "data": {
      "image/png": "[encoded data removed]",
      "text/plain": [
       "<Figure size 640x480 with 2 Axes>"
      ]
     },
     "metadata": {},
     "output_type": "display_data"
    }
   ],
   "source": [
    "# Afficher la matrice de confusion\n",
    "disp = ConfusionMatrixDisplay(confusion_matrix=conf_matrix)\n",
    "disp.plot(cmap='Blues')\n",
    "plt.show()"
   ]
  },
  {
   "cell_type": "code",
   "execution_count": 45,
   "id": "98a9045b-8f80-4151-b027-3625513d536d",
   "metadata": {},
   "outputs": [
    {
     "name": "stdout",
     "output_type": "stream",
     "text": [
      "Classification Report for LGR:\n",
      "              precision    recall  f1-score   support\n",
      "\n",
      "  Irrelevant       0.48      0.16      0.24      2661\n",
      "    Negative       0.56      0.68      0.62      4471\n",
      "     Neutral       0.47      0.54      0.50      3551\n",
      "    Positive       0.54      0.57      0.55      4254\n",
      "\n",
      "    accuracy                           0.52     14937\n",
      "   macro avg       0.51      0.49      0.48     14937\n",
      "weighted avg       0.52      0.52      0.50     14937\n",
      "\n"
     ]
    }
   ],
   "source": [
    "print(\"Classification Report for LGR:\")\n",
    "print(classification_report(y_test, LGRP))"
   ]
  },
  {
   "cell_type": "code",
   "execution_count": 46,
   "id": "42b58398-66d9-44bc-b5f5-d65c7915229b",
   "metadata": {},
   "outputs": [
    {
     "name": "stdout",
     "output_type": "stream",
     "text": [
      "AdaBoost Accuracy: 0.5069291022293633\n"
     ]
    }
   ],
   "source": [
    "adaboost = AdaBoostClassifier(n_estimators=100)\n",
    "adaboost.fit(X_train, y_train)\n",
    "adaboostP = adaboost.predict(X_test)\n",
    "adaboost_accuracy = accuracy_score(y_test, adaboostP)\n",
    "print(\"AdaBoost Accuracy:\", adaboost_accuracy)"
   ]
  },
  {
   "cell_type": "code",
   "execution_count": 47,
   "id": "8ae0fac5-6cec-4657-b2e8-e1fa93a5938b",
   "metadata": {},
   "outputs": [
    {
     "ename": "InvalidParameterError",
     "evalue": "The 'y_pred' parameter of confusion_matrix must be an array-like. Got 0.5069291022293633 instead.",
     "output_type": "error",
     "traceback": [
      "\u001b[1;31m---------------------------------------------------------------------------\u001b[0m",
      "\u001b[1;31mInvalidParameterError\u001b[0m                     Traceback (most recent call last)",
      "Cell \u001b[1;32mIn[47], line 2\u001b[0m\n\u001b[0;32m      1\u001b[0m \u001b[38;5;66;03m# Calculer la matrice de confusion\u001b[39;00m\n\u001b[1;32m----> 2\u001b[0m conf_matrix \u001b[38;5;241m=\u001b[39m \u001b[43mconfusion_matrix\u001b[49m\u001b[43m(\u001b[49m\u001b[43my_test\u001b[49m\u001b[43m,\u001b[49m\u001b[43m \u001b[49m\u001b[43madaboost_accuracy\u001b[49m\u001b[43m)\u001b[49m\n\u001b[0;32m      3\u001b[0m \u001b[38;5;28mprint\u001b[39m(\u001b[38;5;124m\"\u001b[39m\u001b[38;5;124mConfusion Matrix:\u001b[39m\u001b[38;5;124m\"\u001b[39m)\n\u001b[0;32m      4\u001b[0m \u001b[38;5;28mprint\u001b[39m(conf_matrix)\n",
      "File \u001b[1;32m~\\AppData\\Local\\Programs\\Python\\Python312\\Lib\\site-packages\\sklearn\\utils\\_param_validation.py:204\u001b[0m, in \u001b[0;36mvalidate_params.<locals>.decorator.<locals>.wrapper\u001b[1;34m(*args, **kwargs)\u001b[0m\n\u001b[0;32m    201\u001b[0m to_ignore \u001b[38;5;241m+\u001b[39m\u001b[38;5;241m=\u001b[39m [\u001b[38;5;124m\"\u001b[39m\u001b[38;5;124mself\u001b[39m\u001b[38;5;124m\"\u001b[39m, \u001b[38;5;124m\"\u001b[39m\u001b[38;5;124mcls\u001b[39m\u001b[38;5;124m\"\u001b[39m]\n\u001b[0;32m    202\u001b[0m params \u001b[38;5;241m=\u001b[39m {k: v \u001b[38;5;28;01mfor\u001b[39;00m k, v \u001b[38;5;129;01min\u001b[39;00m params\u001b[38;5;241m.\u001b[39marguments\u001b[38;5;241m.\u001b[39mitems() \u001b[38;5;28;01mif\u001b[39;00m k \u001b[38;5;129;01mnot\u001b[39;00m \u001b[38;5;129;01min\u001b[39;00m to_ignore}\n\u001b[1;32m--> 204\u001b[0m \u001b[43mvalidate_parameter_constraints\u001b[49m\u001b[43m(\u001b[49m\n\u001b[0;32m    205\u001b[0m \u001b[43m    \u001b[49m\u001b[43mparameter_constraints\u001b[49m\u001b[43m,\u001b[49m\u001b[43m \u001b[49m\u001b[43mparams\u001b[49m\u001b[43m,\u001b[49m\u001b[43m \u001b[49m\u001b[43mcaller_name\u001b[49m\u001b[38;5;241;43m=\u001b[39;49m\u001b[43mfunc\u001b[49m\u001b[38;5;241;43m.\u001b[39;49m\u001b[38;5;18;43m__qualname__\u001b[39;49m\n\u001b[0;32m    206\u001b[0m \u001b[43m\u001b[49m\u001b[43m)\u001b[49m\n\u001b[0;32m    208\u001b[0m \u001b[38;5;28;01mtry\u001b[39;00m:\n\u001b[0;32m    209\u001b[0m     \u001b[38;5;28;01mwith\u001b[39;00m config_context(\n\u001b[0;32m    210\u001b[0m         skip_parameter_validation\u001b[38;5;241m=\u001b[39m(\n\u001b[0;32m    211\u001b[0m             prefer_skip_nested_validation \u001b[38;5;129;01mor\u001b[39;00m global_skip_validation\n\u001b[0;32m    212\u001b[0m         )\n\u001b[0;32m    213\u001b[0m     ):\n",
      "File \u001b[1;32m~\\AppData\\Local\\Programs\\Python\\Python312\\Lib\\site-packages\\sklearn\\utils\\_param_validation.py:96\u001b[0m, in \u001b[0;36mvalidate_parameter_constraints\u001b[1;34m(parameter_constraints, params, caller_name)\u001b[0m\n\u001b[0;32m     90\u001b[0m \u001b[38;5;28;01melse\u001b[39;00m:\n\u001b[0;32m     91\u001b[0m     constraints_str \u001b[38;5;241m=\u001b[39m (\n\u001b[0;32m     92\u001b[0m         \u001b[38;5;124mf\u001b[39m\u001b[38;5;124m\"\u001b[39m\u001b[38;5;132;01m{\u001b[39;00m\u001b[38;5;124m'\u001b[39m\u001b[38;5;124m, \u001b[39m\u001b[38;5;124m'\u001b[39m\u001b[38;5;241m.\u001b[39mjoin([\u001b[38;5;28mstr\u001b[39m(c)\u001b[38;5;250m \u001b[39m\u001b[38;5;28;01mfor\u001b[39;00m\u001b[38;5;250m \u001b[39mc\u001b[38;5;250m \u001b[39m\u001b[38;5;129;01min\u001b[39;00m\u001b[38;5;250m \u001b[39mconstraints[:\u001b[38;5;241m-\u001b[39m\u001b[38;5;241m1\u001b[39m]])\u001b[38;5;132;01m}\u001b[39;00m\u001b[38;5;124m or\u001b[39m\u001b[38;5;124m\"\u001b[39m\n\u001b[0;32m     93\u001b[0m         \u001b[38;5;124mf\u001b[39m\u001b[38;5;124m\"\u001b[39m\u001b[38;5;124m \u001b[39m\u001b[38;5;132;01m{\u001b[39;00mconstraints[\u001b[38;5;241m-\u001b[39m\u001b[38;5;241m1\u001b[39m]\u001b[38;5;132;01m}\u001b[39;00m\u001b[38;5;124m\"\u001b[39m\n\u001b[0;32m     94\u001b[0m     )\n\u001b[1;32m---> 96\u001b[0m \u001b[38;5;28;01mraise\u001b[39;00m InvalidParameterError(\n\u001b[0;32m     97\u001b[0m     \u001b[38;5;124mf\u001b[39m\u001b[38;5;124m\"\u001b[39m\u001b[38;5;124mThe \u001b[39m\u001b[38;5;132;01m{\u001b[39;00mparam_name\u001b[38;5;132;01m!r}\u001b[39;00m\u001b[38;5;124m parameter of \u001b[39m\u001b[38;5;132;01m{\u001b[39;00mcaller_name\u001b[38;5;132;01m}\u001b[39;00m\u001b[38;5;124m must be\u001b[39m\u001b[38;5;124m\"\u001b[39m\n\u001b[0;32m     98\u001b[0m     \u001b[38;5;124mf\u001b[39m\u001b[38;5;124m\"\u001b[39m\u001b[38;5;124m \u001b[39m\u001b[38;5;132;01m{\u001b[39;00mconstraints_str\u001b[38;5;132;01m}\u001b[39;00m\u001b[38;5;124m. Got \u001b[39m\u001b[38;5;132;01m{\u001b[39;00mparam_val\u001b[38;5;132;01m!r}\u001b[39;00m\u001b[38;5;124m instead.\u001b[39m\u001b[38;5;124m\"\u001b[39m\n\u001b[0;32m     99\u001b[0m )\n",
      "\u001b[1;31mInvalidParameterError\u001b[0m: The 'y_pred' parameter of confusion_matrix must be an array-like. Got 0.5069291022293633 instead."
     ]
    }
   ],
   "source": [
    "# Calculer la matrice de confusion\n",
    "conf_matrix = confusion_matrix(y_test, adaboost_accuracy)\n",
    "print(\"Confusion Matrix:\")\n",
    "print(conf_matrix)"
   ]
  },
  {
   "cell_type": "code",
   "execution_count": null,
   "id": "8d9782c6-d405-48e6-b5f9-af39fb028da9",
   "metadata": {},
   "outputs": [],
   "source": [
    "# Afficher la matrice de confusion\n",
    "disp = ConfusionMatrixDisplay(confusion_matrix=conf_matrix)\n",
    "disp.plot(cmap='Blues')\n",
    "plt.show()"
   ]
  },
  {
   "cell_type": "code",
   "execution_count": null,
   "id": "437eb514-fdfd-4203-8d0f-8c0019f2f43a",
   "metadata": {},
   "outputs": [],
   "source": [
    "print(\"Classification Report for adaboost:\")\n",
    "print(classification_report(y_test, adaboost_accuracy))"
   ]
  },
  {
   "cell_type": "code",
   "execution_count": null,
   "id": "ccb1145f-3535-4c45-95ce-be0a0537ed0a",
   "metadata": {},
   "outputs": [],
   "source": [
    "# Assuming you have calculated accuracy scores for each model\n",
    "models = ['SVM', 'Naive Bayes', 'Logistic Regression', 'AdaBoost']\n",
    "accuracies = [svm_accuracy, NB_acc, LGR_acc, adaboost_accuracy]\n",
    "\n",
    "# Plot\n",
    "plt.figure(figsize=(10, 6))\n",
    "plt.bar(models, accuracies, color='red')\n",
    "plt.title('Accuracy Scores of Different Models')\n",
    "plt.xlabel('Model')\n",
    "plt.ylabel('Accuracy')\n",
    "plt.ylim(0, 1)  # Set y-axis limit to range between 0 and 1\n",
    "plt.show()\n"
   ]
  },
  {
   "cell_type": "markdown",
   "id": "9b4b8516-70cf-40a8-aa96-c1997d8c1774",
   "metadata": {},
   "source": [
    "## Model Comparison and Interpretation\n"
   ]
  },
  {
   "cell_type": "markdown",
   "id": "c4517d3d-1d0d-4319-bef6-9144926ac766",
   "metadata": {},
   "source": [
    "Logistic Regression and SVM outperform Naive Bayes and AdaBoost in terms of accuracy and overall classification metrics. Despite lower accuracy scores, AdaBoost and Naive Bayes offer valuable insights, particularly in classifying majority classes."
   ]
  },
  {
   "cell_type": "markdown",
   "id": "6151ac21-7167-4c7a-b623-da0b117f9968",
   "metadata": {},
   "source": [
    "## Conclusion"
   ]
  },
  {
   "cell_type": "markdown",
   "id": "6dbbd48a-5595-47b7-99f1-536b7c41f7d9",
   "metadata": {},
   "source": [
    "Logistic Regression and SVM exhibit higher accuracy and classification metrics compared to Naive Bayes and AdaBoost. However, AdaBoost and Naive Bayes provide valuable insights, especially in classifying majority classes.\n",
    "- Consider task-specific requirements and the balance between precision, recall, and accuracy when selecting the best model for deployment."
   ]
  },
  {
   "cell_type": "code",
   "execution_count": null,
   "id": "ec2044d3-b94a-410e-a819-938177b22deb",
   "metadata": {},
   "outputs": [],
   "source": []
  }
 ],
 "metadata": {
  "kernelspec": {
   "display_name": "Python 3 (ipykernel)",
   "language": "python",
   "name": "python3"
  },
  "language_info": {
   "codemirror_mode": {
    "name": "ipython",
    "version": 3
   },
   "file_extension": ".py",
   "mimetype": "text/x-python",
   "name": "python",
   "nbconvert_exporter": "python",
   "pygments_lexer": "ipython3",
   "version": "3.12.0"
  }
 },
 "nbformat": 4,
 "nbformat_minor": 5
}
